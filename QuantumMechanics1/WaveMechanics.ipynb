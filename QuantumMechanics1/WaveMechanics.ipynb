{
 "cells": [
  {
   "cell_type": "code",
   "execution_count": 2,
   "metadata": {
    "scrolled": true
   },
   "outputs": [
    {
     "data": {
      "text/latex": [
       "$$x=2\\sqrt{\\frac{2\\pi k T_e}{m_e}} {\\left(\\frac{\\Delta E}{k T_e}\\right)}^2 {a_0}^2$$"
      ],
      "text/plain": [
       "<IPython.core.display.Latex object>"
      ]
     },
     "metadata": {},
     "output_type": "display_data"
    },
    {
     "name": "stdout",
     "output_type": "stream",
     "text": [
      "$$x=2\\sqrt{\\frac{2\\pi k T_e}{m_e}} {\\left(\\frac{\\Delta E}{k T_e}\\right)}^2 {a_0}^2$$\n"
     ]
    },
    {
     "data": {
      "text/plain": [
       "'$$x=2\\\\sqrt{\\\\frac{2\\\\pi k T_e}{m_e}} {\\\\left(\\\\frac{\\\\Delta E}{k T_e}\\\\right)}^2 {a_0}^2$$'"
      ]
     },
     "execution_count": 2,
     "metadata": {},
     "output_type": "execute_result"
    }
   ],
   "source": [
    "from pytexit import py2tex\n",
    "py2tex('x = 2*sqrt(2*pi*k*T_e/m_e)*(DeltaE/(k*T_e))**2*a_0**2')"
   ]
  },
  {
   "cell_type": "markdown",
   "metadata": {},
   "source": [
    "## Solution Wave Equation"
   ]
  },
  {
   "cell_type": "markdown",
   "metadata": {},
   "source": [
    "<html>\n",
    "<link rel=\"stylesheet\" href=\"style.css\" type=\"text/css\"/>\n",
    "    <p style=\"color:green;\">From differetial equations we can infer the solution everywhere for a given potential since we have the variation of values across the space domain and time, for example we can infer the values one step of space further and/or one step of time ahead</p>\n",
    "\n",
    "</html>"
   ]
  },
  {
   "cell_type": "markdown",
   "metadata": {},
   "source": [
    "\n",
    "<html>\n",
    "    <link rel=\"stylesheet\" href=\"style.css\" type=\"text/css\"/>\n",
    "    <li style=\"color:blue\"> Solution Wave Equation</li>\n",
    "\n",
    "</html>\n"
   ]
  },
  {
   "cell_type": "code",
   "execution_count": null,
   "metadata": {
    "scrolled": true
   },
   "outputs": [],
   "source": []
  },
  {
   "cell_type": "code",
   "execution_count": 3,
   "metadata": {},
   "outputs": [],
   "source": [
    "###Stationary State"
   ]
  },
  {
   "cell_type": "markdown",
   "metadata": {},
   "source": [
    "<html>\n",
    "    \n",
    "    \n",
    "</html>"
   ]
  },
  {
   "cell_type": "markdown",
   "metadata": {},
   "source": [
    "<html>\n",
    "    <a style=\"color:black;font-size:20px\">Stationary state solution should have the form below:</a>\n",
    "</html>"
   ]
  },
  {
   "cell_type": "code",
   "execution_count": 25,
   "metadata": {},
   "outputs": [
    {
     "data": {
      "text/latex": [
       "$$\\operatorname{\\Psi}\\left(x, t\\right)+\\operatorname{exp}\\left(\\frac{-iET}{H}\\right)$$"
      ],
      "text/plain": [
       "<IPython.core.display.Latex object>"
      ]
     },
     "metadata": {},
     "output_type": "display_data"
    },
    {
     "name": "stdout",
     "output_type": "stream",
     "text": [
      "$$\\operatorname{\\Psi}\\left(x, t\\right)+\\operatorname{exp}\\left(\\frac{-iET}{H}\\right)$$\n"
     ]
    },
    {
     "data": {
      "text/plain": [
       "'$$\\\\operatorname{\\\\Psi}\\\\left(x, t\\\\right)+\\\\operatorname{exp}\\\\left(\\\\frac{-iET}{H}\\\\right)$$'"
      ]
     },
     "execution_count": 25,
     "metadata": {},
     "output_type": "execute_result"
    }
   ],
   "source": []
  },
  {
   "cell_type": "code",
   "execution_count": null,
   "metadata": {},
   "outputs": [],
   "source": []
  }
 ],
 "metadata": {
  "kernelspec": {
   "display_name": "Python 3",
   "language": "python",
   "name": "python3"
  },
  "language_info": {
   "codemirror_mode": {
    "name": "ipython",
    "version": 3
   },
   "file_extension": ".py",
   "mimetype": "text/x-python",
   "name": "python",
   "nbconvert_exporter": "python",
   "pygments_lexer": "ipython3",
   "version": "3.8.5"
  }
 },
 "nbformat": 4,
 "nbformat_minor": 4
}
