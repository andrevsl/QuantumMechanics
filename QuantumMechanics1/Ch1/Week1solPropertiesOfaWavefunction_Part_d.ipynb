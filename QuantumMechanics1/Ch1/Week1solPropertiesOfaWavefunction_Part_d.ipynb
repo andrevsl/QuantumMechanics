{
 "cells": [
  {
   "cell_type": "markdown",
   "metadata": {},
   "source": [
    "## Part d"
   ]
  },
  {
   "cell_type": "code",
   "execution_count": 9,
   "metadata": {},
   "outputs": [
    {
     "data": {
      "text/latex": [
       "$\n",
       "  for \\ V(x)=0 \\\\\n",
       "  <\\overline{\\rm H}>= \\frac{<\\overline{\\rm p^2}>}{2m}= \\hbar^2 \\frac{3}{4m\\alpha}  \n",
       "\n",
       "$\n"
      ],
      "text/plain": [
       "<IPython.core.display.Latex object>"
      ]
     },
     "metadata": {},
     "output_type": "display_data"
    }
   ],
   "source": [
    "%%latex\n",
    "$\n",
    "  for \\ V(x)=0 \\\\\n",
    "  <\\overline{\\rm H}>= \\frac{<\\overline{\\rm p^2}>}{2m}= \\hbar^2 \\frac{3}{4m\\alpha}  \n",
    "\n",
    "$"
   ]
  },
  {
   "cell_type": "code",
   "execution_count": null,
   "metadata": {},
   "outputs": [],
   "source": []
  }
 ],
 "metadata": {
  "kernelspec": {
   "display_name": "Python 3",
   "language": "python",
   "name": "python3"
  },
  "language_info": {
   "codemirror_mode": {
    "name": "ipython",
    "version": 3
   },
   "file_extension": ".py",
   "mimetype": "text/x-python",
   "name": "python",
   "nbconvert_exporter": "python",
   "pygments_lexer": "ipython3",
   "version": "3.8.5"
  }
 },
 "nbformat": 4,
 "nbformat_minor": 4
}
