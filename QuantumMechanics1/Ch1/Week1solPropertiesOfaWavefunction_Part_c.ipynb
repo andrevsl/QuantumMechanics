{
 "cells": [
  {
   "cell_type": "code",
   "execution_count": 1,
   "metadata": {},
   "outputs": [],
   "source": [
    "### Part c1 "
   ]
  },
  {
   "cell_type": "code",
   "execution_count": 7,
   "metadata": {},
   "outputs": [
    {
     "data": {
      "text/latex": [
       "## TO THINK\n",
       "$ \n",
       "\\ Once \\ eigenstates \\ \\Psi(x) \\ are \\ not \\ discrete \\ and \\\\\n",
       "\n",
       "\n",
       "<\\overline{\\rm x}>=<\\overline{\\rm p}>=<\\overline{\\rm L}>=0         \\\\\n",
       "\n",
       "E \\ wil \\ be \\ zero\\ ( \\ and \\ it \\ must \\ be \\ a \\ constant \\ ) \\\\\n",
       "\n",
       "E\\Psi(x)=\\overline{\\rm x}\\Psi(x)   \\\\\n",
       "\n",
       "Energie \\ eigenstates \\ will \\ be \\ a \\ function \\ of \\ x, not \\ a \\ constant \\\\\n",
       "\n",
       " \n",
       " \\ In \\ order \\ to \\ obtain \\ the \\ temporal \\ term \\ we \\ had \\ the \\ time \\ dependent \\ equation, \\\\\n",
       " \n",
       " \n",
       " i \\hbar \\frac{1}{ \\Psi(t)}\\frac{\\mathrm{d} \\Psi(t) }{\\mathrm{d} t} =constant=E=\n",
       " \\frac{1}{\\Psi(x)}\\overline{\\rm L}[\\Psi(x)] \\\\  \n",
       " \n",
       " \n",
       " Since \\ variations \\ of \\ \\Psi(t)  \\ and \\ \\Psi(x) \\ are \\ independent \\\\\n",
       " the \\ derivative  \\ of \\ time \\ in \\ the \\  left \\ hand \\ side \\ and \\\\ operations \\ of \\ space \\ in \\ the \\ right \\ hand \\ side \\  must \\ be \\ both \\ constant \\ \\\\\n",
       " \n",
       "$\n"
      ],
      "text/plain": [
       "<IPython.core.display.Latex object>"
      ]
     },
     "metadata": {},
     "output_type": "display_data"
    }
   ],
   "source": [
    "%%latex\n",
    "## TO THINK\n",
    "$ \n",
    "\\ Once \\ eigenstates \\ \\Psi(x) \\ are \\ not \\ discrete \\ and \\\\\n",
    "\n",
    "\n",
    "<\\overline{\\rm x}>=<\\overline{\\rm p}>=<\\overline{\\rm L}>=0         \\\\\n",
    "\n",
    "E \\ wil \\ be \\ zero\\ ( \\ and \\ it \\ must \\ be \\ a \\ constant \\ ) \\\\\n",
    "\n",
    "E\\Psi(x)=\\overline{\\rm x}\\Psi(x)   \\\\\n",
    "\n",
    "Energie \\ eigenstates \\ will \\ be \\ a \\ function \\ of \\ x, not \\ a \\ constant \\\\\n",
    "\n",
    " \n",
    " \\ In \\ order \\ to \\ obtain \\ the \\ temporal \\ term \\ we \\ had \\ the \\ time \\ dependent \\ equation, \\\\\n",
    " \n",
    " \n",
    " i \\hbar \\frac{1}{ \\Psi(t)}\\frac{\\mathrm{d} \\Psi(t) }{\\mathrm{d} t} =constant=E=\n",
    " \\frac{1}{\\Psi(x)}\\overline{\\rm L}[\\Psi(x)] \\\\  \n",
    " \n",
    " \n",
    " Since \\ variations \\ of \\ \\Psi(t)  \\ and \\ \\Psi(x) \\ are \\ independent \\\\\n",
    " the \\ derivative  \\ of \\ time \\ in \\ the \\  left \\ hand \\ side \\ and \\\\ operations \\ of \\ space \\ in \\ the \\ right \\ hand \\ side \\  must \\ be \\ both \\ constant \\ \\\\\n",
    " \n",
    "$"
   ]
  },
  {
   "cell_type": "code",
   "execution_count": null,
   "metadata": {},
   "outputs": [],
   "source": []
  }
 ],
 "metadata": {
  "kernelspec": {
   "display_name": "Python 3",
   "language": "python",
   "name": "python3"
  },
  "language_info": {
   "codemirror_mode": {
    "name": "ipython",
    "version": 3
   },
   "file_extension": ".py",
   "mimetype": "text/x-python",
   "name": "python",
   "nbconvert_exporter": "python",
   "pygments_lexer": "ipython3",
   "version": "3.8.5"
  }
 },
 "nbformat": 4,
 "nbformat_minor": 4
}
