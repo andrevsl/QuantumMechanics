{
 "cells": [
  {
   "cell_type": "code",
   "execution_count": 1,
   "metadata": {},
   "outputs": [
    {
     "data": {
      "text/latex": [
       "$\n",
       "|\\alpha >=\\frac{1}{\\sqrt{2}}|z;+>+\\frac{1i}{\\sqrt{2}}|z;->  = \n",
       "\\begin{pmatrix}\\frac{1}{\\sqrt{2}}\\\\\\frac{1i}{\\sqrt{2}}\\end{pmatrix} \n",
       "\\\\\n",
       "|\\beta>=\\frac{1}{\\sqrt{2}}|z;+>-\\frac{1i}{\\sqrt{2}}|z;->= \n",
       "\\begin{pmatrix}\\frac{1}{\\sqrt{2}}\\\\-\\frac{1i}{\\sqrt{2}}\\end{pmatrix} \n",
       "\\\\ then,\\\\\n",
       "\n",
       "<\\alpha|= \\frac{1}{\\sqrt{2}}^*|z;+>+\\frac{1i}{\\sqrt{2}}^*|z;->  = \n",
       "\\begin{pmatrix}\\frac{1}{\\sqrt{2}}&-\\frac{1i}{\\sqrt{2}}\\end{pmatrix} \n",
       "\n",
       "\n",
       "\\\\\n",
       "\n",
       "<\\alpha|\\beta>=\\begin{pmatrix}\\frac{1}{\\sqrt{2}}&-\\frac{1i}{\\sqrt{2}}\\end{pmatrix} \n",
       "\\begin{pmatrix}\\frac{1}{\\sqrt{2}}\\\\-\\frac{1i}{\\sqrt{2}}\\end{pmatrix} \n",
       "\\\\\n",
       "<\\alpha|\\beta>=\\frac{1}{\\sqrt{2}} \\frac{1}{\\sqrt{2}}+(-\\frac{1i}{\\sqrt{2}})(-\\frac{1i}{\\sqrt{2}})\\\\\n",
       "\n",
       "<\\alpha|\\beta>=\\frac{1}{2} -\\frac{1}{2}=0\n",
       "$\n"
      ],
      "text/plain": [
       "<IPython.core.display.Latex object>"
      ]
     },
     "metadata": {},
     "output_type": "display_data"
    }
   ],
   "source": [
    "%%latex\n",
    "$\n",
    "|\\alpha >=\\frac{1}{\\sqrt{2}}|z;+>+\\frac{1i}{\\sqrt{2}}|z;->  = \n",
    "\\begin{pmatrix}\\frac{1}{\\sqrt{2}}\\\\\\frac{1i}{\\sqrt{2}}\\end{pmatrix} \n",
    "\\\\\n",
    "|\\beta>=\\frac{1}{\\sqrt{2}}|z;+>-\\frac{1i}{\\sqrt{2}}|z;->= \n",
    "\\begin{pmatrix}\\frac{1}{\\sqrt{2}}\\\\-\\frac{1i}{\\sqrt{2}}\\end{pmatrix} \n",
    "\\\\ then,\\\\\n",
    "\n",
    "<\\alpha|= \\frac{1}{\\sqrt{2}}^*|z;+>+\\frac{1i}{\\sqrt{2}}^*|z;->  = \n",
    "\\begin{pmatrix}\\frac{1}{\\sqrt{2}}&-\\frac{1i}{\\sqrt{2}}\\end{pmatrix} \n",
    "\n",
    "\n",
    "\\\\\n",
    "\n",
    "<\\alpha|\\beta>=\\begin{pmatrix}\\frac{1}{\\sqrt{2}}&-\\frac{1i}{\\sqrt{2}}\\end{pmatrix} \n",
    "\\begin{pmatrix}\\frac{1}{\\sqrt{2}}\\\\-\\frac{1i}{\\sqrt{2}}\\end{pmatrix} \n",
    "\\\\\n",
    "<\\alpha|\\beta>=\\frac{1}{\\sqrt{2}} \\frac{1}{\\sqrt{2}}+(-\\frac{1i}{\\sqrt{2}})(-\\frac{1i}{\\sqrt{2}})\\\\\n",
    "\n",
    "<\\alpha|\\beta>=\\frac{1}{2} -\\frac{1}{2}=0\n",
    "$"
   ]
  },
  {
   "cell_type": "code",
   "execution_count": null,
   "metadata": {},
   "outputs": [],
   "source": []
  }
 ],
 "metadata": {
  "kernelspec": {
   "display_name": "Python 3",
   "language": "python",
   "name": "python3"
  },
  "language_info": {
   "codemirror_mode": {
    "name": "ipython",
    "version": 3
   },
   "file_extension": ".py",
   "mimetype": "text/x-python",
   "name": "python",
   "nbconvert_exporter": "python",
   "pygments_lexer": "ipython3",
   "version": "3.8.5"
  }
 },
 "nbformat": 4,
 "nbformat_minor": 4
}
