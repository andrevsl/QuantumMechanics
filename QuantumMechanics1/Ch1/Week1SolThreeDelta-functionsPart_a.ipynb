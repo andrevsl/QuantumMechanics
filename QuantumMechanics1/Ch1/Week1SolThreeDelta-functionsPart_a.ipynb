{
 "cells": [
  {
   "cell_type": "code",
   "execution_count": 1,
   "metadata": {},
   "outputs": [
    {
     "data": {
      "text/latex": [
       "$\n",
       "E\\Psi(x)=\\overline{\\rm H}\\Psi(x)   \\\\\n",
       "\n",
       "E\\Psi(x)=[-\\frac{ \\hbar^2}{2m} \\frac{\\partial^2 }{\\partial x^2} +V(x)]\\Psi(x)   \\\\\n",
       "\n",
       "Integrating \\ both \\ sides \\ at \\ x=0 \\ between  \\  -\\epsilon \\ and \\ +\\epsilon , \n",
       "being \\  \\epsilon \\ very \\ small.\\\\ Only \\ the \\ \\delta(x) \\ is \\ included \n",
       "\\ due \\ to \\ the\\ integration\\ interval.\\\\\n",
       "\n",
       "E\\intop_{  -\\epsilon }^{ \\epsilon } \\Psi(x) dx=\n",
       "\n",
       "-\\frac{ \\hbar^2 }{2m}\\intop_{  -\\epsilon }^{ \\epsilon }  \\frac{\\partial^2 \\Psi(x)}{\\partial x^2}  dx  \n",
       "\n",
       "-V_0a\\intop_{  -\\epsilon }^{ \\epsilon } \\Psi(x) \\delta(x)dx\n",
       "\n",
       "\\\\\n",
       "\n",
       "the \\ right \\ hand \\ side \\ term \\ vanishes, \\ then \\\\\n",
       "\n",
       "\n",
       "\\frac{ \\hbar^2 }{2m}  \\frac{\\partial \\Psi(x)}{\\partial x}  {|_{-\\epsilon} ^{+\\epsilon}}  =-V_0a \\Psi(0) \\\\\n",
       "\n",
       "\n",
       " \\Delta \\Psi^{'}(x)=-\\frac{2mV_0a \\Psi(0) }{\\hbar^2}\n",
       "\n",
       "\n",
       "     \n",
       "  \n",
       "   \n",
       "\n",
       "$\n"
      ],
      "text/plain": [
       "<IPython.core.display.Latex object>"
      ]
     },
     "metadata": {},
     "output_type": "display_data"
    }
   ],
   "source": [
    "%%latex\n",
    "$\n",
    "E\\Psi(x)=\\overline{\\rm H}\\Psi(x)   \\\\\n",
    "\n",
    "E\\Psi(x)=[-\\frac{ \\hbar^2}{2m} \\frac{\\partial^2 }{\\partial x^2} +V(x)]\\Psi(x)   \\\\\n",
    "\n",
    "Integrating \\ both \\ sides \\ at \\ x=0 \\ between  \\  -\\epsilon \\ and \\ +\\epsilon , \n",
    "being \\  \\epsilon \\ very \\ small.\\\\ Only \\ the \\ \\delta(x) \\ is \\ included \n",
    "\\ due \\ to \\ the\\ integration\\ interval.\\\\\n",
    "\n",
    "E\\intop_{  -\\epsilon }^{ \\epsilon } \\Psi(x) dx=\n",
    "\n",
    "-\\frac{ \\hbar^2 }{2m}\\intop_{  -\\epsilon }^{ \\epsilon }  \\frac{\\partial^2 \\Psi(x)}{\\partial x^2}  dx  \n",
    "\n",
    "-V_0a\\intop_{  -\\epsilon }^{ \\epsilon } \\Psi(x) \\delta(x)dx\n",
    "\n",
    "\\\\\n",
    "\n",
    "the \\ right \\ hand \\ side \\ term \\ vanishes, \\ then \\\\\n",
    "\n",
    "\n",
    "\\frac{ \\hbar^2 }{2m}  \\frac{\\partial \\Psi(x)}{\\partial x}  {|_{-\\epsilon} ^{+\\epsilon}}  =-V_0a \\Psi(0) \\\\\n",
    "\n",
    "\n",
    " \\Delta \\Psi^{'}(x)=-\\frac{2mV_0a \\Psi(0) }{\\hbar^2}\n",
    "\n",
    "\n",
    "     \n",
    "  \n",
    "   \n",
    "\n",
    "$"
   ]
  },
  {
   "cell_type": "code",
   "execution_count": null,
   "metadata": {},
   "outputs": [],
   "source": []
  }
 ],
 "metadata": {
  "kernelspec": {
   "display_name": "Python 3",
   "language": "python",
   "name": "python3"
  },
  "language_info": {
   "codemirror_mode": {
    "name": "ipython",
    "version": 3
   },
   "file_extension": ".py",
   "mimetype": "text/x-python",
   "name": "python",
   "nbconvert_exporter": "python",
   "pygments_lexer": "ipython3",
   "version": "3.8.5"
  }
 },
 "nbformat": 4,
 "nbformat_minor": 4
}
