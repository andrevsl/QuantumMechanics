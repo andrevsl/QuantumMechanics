{
 "cells": [
  {
   "cell_type": "code",
   "execution_count": 1,
   "metadata": {},
   "outputs": [
    {
     "data": {
      "text/latex": [
       "$\n",
       "\n",
       "being \\ x=1  \\ y=2 \\ and \\ z=3\\\\\n",
       "\n",
       "[\\hat{L_i},\\hat{L_i}]=\\hat{L_i }\\hat{L_j} - \\hat{L_j} \\hat{L_i}=\n",
       "\n",
       "i \\hbar \\varepsilon _{ijk} \\hat{L_k}\\\\\n",
       "\n",
       "\\hat{L_k}=\\hat{i}\\hat{p_j}-\\hat{j}\\hat{p_i}\n",
       "\n",
       "\\\\ and \\\\\n",
       "\\varepsilon _{ijk}=\\Bigg\\{   \\begin{matrix}\n",
       "+1 & if &\\ (i,j,k) \\ is  \\ (1,2,3);\\ (2,3,1);\\ (3,1,2) \\\\\\\n",
       "-1 & if &\\ (i,j,k) \\ is \\ (2,1,3);\\ (3,2,1);\\ (1,3,2) \\\\\n",
       " 0 & if &\\ i=j \\ or \\ j=k \\ or \\ k=i\n",
       "\\end{matrix}\n",
       "\n",
       "\\\\ (a) \\\\\n",
       "\n",
       "[\\hat{L^{'}_x},\\hat{L^{'}_y}]=[\\hat{L_x},\\hat{L_y}]=i \\hbar\\hat{L_z}= -i \\hbar\\hat{L^{'}_z}  \\\\\n",
       "\n",
       "\\hat{L_x}=\\hat{y}\\hat{p_z}-\\hat{z}\\hat{p_y} \\\\\n",
       "\\hat{L_y}=\\hat{z}\\hat{p_x}-\\hat{y}\\hat{p_x}\\\\\n",
       "\\hat{L_z}=\\hat{x}\\hat{p_y}-\\hat{y}\\hat{p_x}\n",
       "\n",
       "\\\\ (b) \\\\\n",
       "\n",
       "[\\hat{L^{'}_x},\\hat{L^{'}_y}]=[\\hat{L_x},-\\hat{L_y}]=[\\hat{L_x},\\hat{L_y}](-1)\\\\\n",
       "=-i\\hbar \\hat{L_z }=i\\hbar \\hat{L^{'}_z} \\ ok \\\\\n",
       "\n",
       "[\\hat{L^{'}_y},\\hat{L^{'}_z}]=[\\hat{L_y},-\\hat{L_z}]=[\\hat{L_y},\\hat{L_z}](-1)\\\\\n",
       "=i\\hbar \\hat{L_x }=i\\hbar \\hat{L^{'}_x} \\ ok\\\\\n",
       "\n",
       "[\\hat{L^{'}_z},\\hat{L^{'}_x}]=[-\\hat{L_z},\\hat{L_x}]=(-1)[\\hat{L_z},\\hat{L_x}]\\\\\n",
       "=-i\\hbar \\hat{L_y }=i\\hbar \\hat{L^{'}_y} \\ ok\\\\\n",
       "\n",
       "\\\\ (c) \\\\\n",
       "\n",
       "[\\hat{L^{'}_x},\\hat{L^{'}_y}]=[-\\hat{L_x},-\\hat{L_y}]=(-1)[\\hat{L_x},\\hat{L_y}](-1)\\\\\n",
       "=i\\hbar \\hat{L_z }=-i\\hbar \\hat{L^{'}_z} \\ nok \\\\\n",
       "$\n"
      ],
      "text/plain": [
       "<IPython.core.display.Latex object>"
      ]
     },
     "metadata": {},
     "output_type": "display_data"
    }
   ],
   "source": [
    "%%latex\n",
    "$\n",
    "\n",
    "being \\ x=1  \\ y=2 \\ and \\ z=3\\\\\n",
    "\n",
    "[\\hat{L_i},\\hat{L_i}]=\\hat{L_i }\\hat{L_j} - \\hat{L_j} \\hat{L_i}=\n",
    "\n",
    "i \\hbar \\varepsilon _{ijk} \\hat{L_k}\\\\\n",
    "\n",
    "\\hat{L_k}=\\hat{i}\\hat{p_j}-\\hat{j}\\hat{p_i}\n",
    "\n",
    "\\\\ and \\\\\n",
    "\\varepsilon _{ijk}=\\Bigg\\{   \\begin{matrix}\n",
    "+1 & if &\\ (i,j,k) \\ is  \\ (1,2,3);\\ (2,3,1);\\ (3,1,2) \\\\\\\n",
    "-1 & if &\\ (i,j,k) \\ is \\ (2,1,3);\\ (3,2,1);\\ (1,3,2) \\\\\n",
    " 0 & if &\\ i=j \\ or \\ j=k \\ or \\ k=i\n",
    "\\end{matrix}\n",
    "\n",
    "\\\\ (a) \\\\\n",
    "\n",
    "[\\hat{L^{'}_x},\\hat{L^{'}_y}]=[\\hat{L_x},\\hat{L_y}]=i \\hbar\\hat{L_z}= -i \\hbar\\hat{L^{'}_z}  \\\\\n",
    "\n",
    "\\hat{L_x}=\\hat{y}\\hat{p_z}-\\hat{z}\\hat{p_y} \\\\\n",
    "\\hat{L_y}=\\hat{z}\\hat{p_x}-\\hat{y}\\hat{p_x}\\\\\n",
    "\\hat{L_z}=\\hat{x}\\hat{p_y}-\\hat{y}\\hat{p_x}\n",
    "\n",
    "\\\\ (b) \\\\\n",
    "\n",
    "[\\hat{L^{'}_x},\\hat{L^{'}_y}]=[\\hat{L_x},-\\hat{L_y}]=[\\hat{L_x},\\hat{L_y}](-1)\\\\\n",
    "=-i\\hbar \\hat{L_z }=i\\hbar \\hat{L^{'}_z} \\ ok \\\\\n",
    "\n",
    "[\\hat{L^{'}_y},\\hat{L^{'}_z}]=[\\hat{L_y},-\\hat{L_z}]=[\\hat{L_y},\\hat{L_z}](-1)\\\\\n",
    "=i\\hbar \\hat{L_x }=i\\hbar \\hat{L^{'}_x} \\ ok\\\\\n",
    "\n",
    "[\\hat{L^{'}_z},\\hat{L^{'}_x}]=[-\\hat{L_z},\\hat{L_x}]=(-1)[\\hat{L_z},\\hat{L_x}]\\\\\n",
    "=-i\\hbar \\hat{L_y }=i\\hbar \\hat{L^{'}_y} \\ ok\\\\\n",
    "\n",
    "\\\\ (c) \\\\\n",
    "\n",
    "[\\hat{L^{'}_x},\\hat{L^{'}_y}]=[-\\hat{L_x},-\\hat{L_y}]=(-1)[\\hat{L_x},\\hat{L_y}](-1)\\\\\n",
    "=i\\hbar \\hat{L_z }=-i\\hbar \\hat{L^{'}_z} \\ nok \\\\\n",
    "$"
   ]
  },
  {
   "cell_type": "code",
   "execution_count": null,
   "metadata": {},
   "outputs": [],
   "source": []
  }
 ],
 "metadata": {
  "kernelspec": {
   "display_name": "Python 3",
   "language": "python",
   "name": "python3"
  },
  "language_info": {
   "codemirror_mode": {
    "name": "ipython",
    "version": 3
   },
   "file_extension": ".py",
   "mimetype": "text/x-python",
   "name": "python",
   "nbconvert_exporter": "python",
   "pygments_lexer": "ipython3",
   "version": "3.8.5"
  }
 },
 "nbformat": 4,
 "nbformat_minor": 4
}
