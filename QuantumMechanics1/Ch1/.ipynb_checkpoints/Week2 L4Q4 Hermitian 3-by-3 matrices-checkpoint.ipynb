{
 "cells": [
  {
   "cell_type": "code",
   "execution_count": 1,
   "metadata": {},
   "outputs": [],
   "source": [
    "import numpy as np"
   ]
  },
  {
   "cell_type": "code",
   "execution_count": 42,
   "metadata": {},
   "outputs": [
    {
     "data": {
      "text/plain": [
       "array([[0., 1., 0.],\n",
       "       [1., 0., 1.],\n",
       "       [0., 1., 0.]])"
      ]
     },
     "execution_count": 42,
     "metadata": {},
     "output_type": "execute_result"
    }
   ],
   "source": [
    "A=1/np.sqrt(2)*np.array([[0,1,0],[1,0,1],[0,1,0]])\n",
    "A/(1/np.sqrt(2))"
   ]
  },
  {
   "cell_type": "code",
   "execution_count": 47,
   "metadata": {},
   "outputs": [
    {
     "name": "stdout",
     "output_type": "stream",
     "text": [
      "[[1 0 1]\n",
      " [1 1 1]\n",
      " [1 0 1]]\n"
     ]
    },
    {
     "data": {
      "text/plain": [
       "0.0"
      ]
     },
     "execution_count": 47,
     "metadata": {},
     "output_type": "execute_result"
    }
   ],
   "source": [
    "B=np.array([[1,0,1],[1,1,1],[1,0,1]])\n",
    "print(B)\n",
    "np.linalg.det(B)"
   ]
  },
  {
   "cell_type": "code",
   "execution_count": 39,
   "metadata": {},
   "outputs": [
    {
     "name": "stdout",
     "output_type": "stream",
     "text": [
      "[-1. -0.  1.]\n"
     ]
    }
   ],
   "source": [
    "w, v =np.linalg.eig(A)\n",
    "\n",
    "print(np.round(w))"
   ]
  },
  {
   "cell_type": "code",
   "execution_count": 21,
   "metadata": {},
   "outputs": [
    {
     "data": {
      "text/plain": [
       "array([[-0.70422535, -1.        , -0.70422535],\n",
       "       [ 1.        , -0.        , -1.        ],\n",
       "       [-0.70422535,  1.        , -0.70422535]])"
      ]
     },
     "execution_count": 21,
     "metadata": {},
     "output_type": "execute_result"
    }
   ],
   "source": [
    "np.round(v,2)/(-0.71)"
   ]
  },
  {
   "cell_type": "code",
   "execution_count": 30,
   "metadata": {},
   "outputs": [
    {
     "data": {
      "text/plain": [
       "array([0., 0., 0.])"
      ]
     },
     "execution_count": 30,
     "metadata": {},
     "output_type": "execute_result"
    }
   ],
   "source": [
    "np.matmul( A,np.array([1,0,-1]))"
   ]
  },
  {
   "cell_type": "code",
   "execution_count": 37,
   "metadata": {},
   "outputs": [
    {
     "data": {
      "text/plain": [
       "array([0, 0, 0])"
      ]
     },
     "execution_count": 37,
     "metadata": {},
     "output_type": "execute_result"
    }
   ],
   "source": [
    "0*np.array([1,0,-1])"
   ]
  },
  {
   "cell_type": "code",
   "execution_count": 38,
   "metadata": {},
   "outputs": [
    {
     "data": {
      "text/plain": [
       "(3,)"
      ]
     },
     "execution_count": 38,
     "metadata": {},
     "output_type": "execute_result"
    }
   ],
   "source": []
  },
  {
   "cell_type": "code",
   "execution_count": 48,
   "metadata": {},
   "outputs": [
    {
     "data": {
      "text/latex": [
       "$\n",
       "\n",
       " \n",
       " (X- \\lambda I)v=0 \\\\\n",
       "  det(X- \\lambda I)=0 \\\\\n",
       "  \n",
       "\n",
       " \\\n",
       " \\begin{vmatrix}\n",
       "     \\begin{pmatrix}\n",
       "     0 &\\frac{1}{\\sqrt{2}} & 0\\\\\n",
       "     \\frac{1}{\\sqrt{2}} & 0 & \\frac{1}{\\sqrt{2}}\\\\\n",
       "     0 & \\frac{1}{\\sqrt{2}} & 0\n",
       "     \\end{pmatrix} \\ \n",
       "     \n",
       "     - \\lambda \n",
       "     \n",
       "      \\begin{pmatrix}\n",
       "     1&0&0\\\\\n",
       "     0&1&0\\\\\n",
       "     0&0&1\n",
       "     \\end{pmatrix} \n",
       "     \n",
       " \\end{vmatrix} =0\\\\\n",
       " \n",
       "  \\\n",
       " \\begin{vmatrix}\n",
       "     \\begin{pmatrix}\n",
       "      \n",
       "     - \\lambda & \\frac{1}{\\sqrt{2}} & 0\\\\\n",
       "     \\frac{1}{\\sqrt{2}} & - \\lambda& \\frac{1}{\\sqrt{2}}      \\\\\n",
       "     0 & \\frac{1}{\\sqrt{2}} & - \\lambda\n",
       "     \\end{pmatrix} \\ \n",
       "    \n",
       "     \n",
       " \\end{vmatrix} =0\\\\\n",
       " \\lambda/2+ \\lambda/2- \\lambda^3=0\\\\\n",
       " \n",
       " \\lambda- \\lambda^3=\n",
       " \\lambda(1-\\lambda^2)=0\\\\\n",
       " \n",
       " \\lambda=0 \\ and \\\\ \n",
       " \n",
       " \\lambda= \\pm 1\n",
       " \n",
       " \\\\\n",
       " \n",
       " k^n  det|X|=det|kX|, \\ being \\ X \\ a \\ nxn \\ matrix \\\\\n",
       " \n",
       " as \\ the \\ determinant \\ of \\ original\\ matrix \\ is \\ zero\\\\\n",
       " (principal \\ diagonal \\ with \\ zeros) \\&\\\\\n",
       " ( \\ one \\ line \\ is \\ linear \\ combination\\ of \\ the \\ other\\ )\n",
       " \\\\\n",
       "\n",
       " one \\ eigenvalue\\ is \\ also \\ zero\\ because \\\\\n",
       "   det(X- 0 I)=0 \\\\\n",
       "\n",
       "$\n"
      ],
      "text/plain": [
       "<IPython.core.display.Latex object>"
      ]
     },
     "metadata": {},
     "output_type": "display_data"
    }
   ],
   "source": [
    "%%latex\n",
    "$\n",
    "\n",
    " \n",
    " (X- \\lambda I)v=0 \\\\\n",
    "  det(X- \\lambda I)=0 \\\\\n",
    "  \n",
    "\n",
    " \\\n",
    " \\begin{vmatrix}\n",
    "     \\begin{pmatrix}\n",
    "     0 &\\frac{1}{\\sqrt{2}} & 0\\\\\n",
    "     \\frac{1}{\\sqrt{2}} & 0 & \\frac{1}{\\sqrt{2}}\\\\\n",
    "     0 & \\frac{1}{\\sqrt{2}} & 0\n",
    "     \\end{pmatrix} \\ \n",
    "     \n",
    "     - \\lambda \n",
    "     \n",
    "      \\begin{pmatrix}\n",
    "     1&0&0\\\\\n",
    "     0&1&0\\\\\n",
    "     0&0&1\n",
    "     \\end{pmatrix} \n",
    "     \n",
    " \\end{vmatrix} =0\\\\\n",
    " \n",
    "  \\\n",
    " \\begin{vmatrix}\n",
    "     \\begin{pmatrix}\n",
    "      \n",
    "     - \\lambda & \\frac{1}{\\sqrt{2}} & 0\\\\\n",
    "     \\frac{1}{\\sqrt{2}} & - \\lambda& \\frac{1}{\\sqrt{2}}      \\\\\n",
    "     0 & \\frac{1}{\\sqrt{2}} & - \\lambda\n",
    "     \\end{pmatrix} \\ \n",
    "    \n",
    "     \n",
    " \\end{vmatrix} =0\\\\\n",
    " \\lambda/2+ \\lambda/2- \\lambda^3=0\\\\\n",
    " \n",
    " \\lambda- \\lambda^3=\n",
    " \\lambda(1-\\lambda^2)=0\\\\\n",
    " \n",
    " \\lambda=0 \\ and \\\\ \n",
    " \n",
    " \\lambda= \\pm 1\n",
    " \n",
    " \\\\\n",
    " \n",
    " k^n  det|X|=det|kX|, \\ being \\ X \\ a \\ nxn \\ matrix \\\\\n",
    " \n",
    " as \\ the \\ determinant \\ of \\ original\\ matrix \\ is \\ zero\\\\\n",
    " (principal \\ diagonal \\ with \\ zeros) \\&\\\\\n",
    " ( \\ one \\ line \\ is \\ linear \\ combination\\ of \\ the \\ other\\ )\n",
    " \\\\\n",
    "\n",
    " one \\ eigenvalue\\ is \\ also \\ zero\\ because \\\\\n",
    "   det(X- 0 I)=0 \\\\\n",
    "\n",
    "$\n"
   ]
  },
  {
   "cell_type": "code",
   "execution_count": null,
   "metadata": {},
   "outputs": [],
   "source": []
  }
 ],
 "metadata": {
  "kernelspec": {
   "display_name": "Python 3",
   "language": "python",
   "name": "python3"
  },
  "language_info": {
   "codemirror_mode": {
    "name": "ipython",
    "version": 3
   },
   "file_extension": ".py",
   "mimetype": "text/x-python",
   "name": "python",
   "nbconvert_exporter": "python",
   "pygments_lexer": "ipython3",
   "version": "3.8.5"
  }
 },
 "nbformat": 4,
 "nbformat_minor": 4
}
