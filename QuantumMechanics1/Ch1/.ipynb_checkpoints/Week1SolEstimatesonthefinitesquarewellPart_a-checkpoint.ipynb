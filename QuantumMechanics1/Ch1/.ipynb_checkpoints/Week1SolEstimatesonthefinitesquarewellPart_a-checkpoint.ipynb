{
 "cells": [
  {
   "cell_type": "markdown",
   "metadata": {},
   "source": [
    "## Part a"
   ]
  },
  {
   "cell_type": "code",
   "execution_count": 1,
   "metadata": {},
   "outputs": [
    {
     "data": {
      "text/latex": [
       "$\n",
       "\n",
       "E\\Psi(x)=\\overline{\\rm H}\\Psi(x)   \\\\\n",
       "\n",
       "for \\ bound \\ states\\ ,  \n",
       "\n",
       "E\\Psi(x)=[-\\frac{ \\hbar^2}{2m} \\frac{\\partial^2 }{\\partial x^2} -V_0]\\Psi(x)   \\\\\n",
       "\n",
       "-\\frac{ 2m}{\\hbar^2}(E-V(x))\\Psi(x)=\\frac{\\partial^2 \\Psi(x)}{\\partial x^2}      \\\\\n",
       "\n",
       "\n",
       "for \\ |x|<a \\ and \\ -V_0<\\ E \\ < \\ 0, \\\\\n",
       "\n",
       "-l^2\\Psi(x)=\\frac{\\partial^2 \\Psi(x)}{\\partial x^2}     \\ (complex \\ exponentials,\\ sin, \\ cos ) \\\\\n",
       "\n",
       "\n",
       "l^2=\\frac{2m(E+V_0)}{\\hbar^2}  \\\\\n",
       "\n",
       "\\Psi(x)=D\\ cos(lx)+C\\ sin(lx)           \\\\\n",
       "\n",
       "\n",
       "\n",
       "for \\ |x|>a, \\ V(x)=0, \\ E \\ < \\ 0 \\\\\n",
       "\n",
       "k^2\\Psi(x)=\\frac{\\partial^2 \\Psi(x)}{\\partial x^2}  \\ (real \\ exponentials,\\ sinh, \\ cosh )      \\\\\n",
       "\n",
       "\n",
       "\n",
       "\n",
       "\n",
       "k^2=-\\frac{2m(E)}{\\hbar^2}  \\\\\n",
       "\\Psi(x)=F\\ exp(kx)+G\\ exp(-kx)           \\\\\n",
       "\n",
       "\n",
       "working \\ with \\ even \\ solutions,\\ at \\ x=-a, \\\\ the \\ second \\ term \\ blows\\ up \\ in \\ the \n",
       "-\\infty, then\\\\\n",
       "\n",
       "\\Psi(x)=D\\ cos(lx)=F\\ exp(kx)   \\\\\n",
       "\n",
       "\\Psi^{'}(x)=-D\\ l\\ sin(lx)=Fk\\ exp(kx)     \\\\\n",
       "\n",
       "\\frac{\\Psi^{'}(x)}{\\Psi(x)}=l\\ tan(lx)=-k   \\\\\n",
       "\n",
       "\n",
       "tan(la)=-\\frac{k}{l}  \\\\\n",
       "tan^2(la)=\n",
       "\\frac{-\\frac{2mE}{\\hbar^2}}\n",
       "{\\frac{2mE}{\\hbar^2}+\\frac{2mV_0}{\\hbar^2}} \\\\\n",
       "\n",
       "=  \\frac{\\frac{2mV_0}{\\hbar^2}}\n",
       "{\\frac{2m(E+V_0)}{\\hbar^2}} -1\\\\      \\\n",
       "\n",
       "= \\frac{\\frac{a^22mV_0}{\\hbar^2}}\n",
       "{\\frac{a^22m(E+V_0)}{\\hbar^2}} -1\\\\      \\\n",
       "\n",
       "being \\ la=z \\ and \\ z_0=\\frac{a\\sqrt{2mV_0}}{\\hbar}\\\\\n",
       "\n",
       "tan^2(z)=\\frac{z_0^2}{z^2} -1 \\\\\n",
       "\n",
       "tan \\ z =\\sqrt{(z_0/z)^2-1}  \\\\\n",
       "\n",
       "the \\ roots\\ of \\ the \\ equation \\ occur \\ for \\ \\ z=n \\pi/2 \\ being \\ n \\ odd \\\\ \n",
       "\n",
       "(la)^2=\\frac{n^2\\pi^2}{4}  \\\\\n",
       "\n",
       "\\frac{a^2 2m(E+V_0)}{\\hbar^2}=\\frac{n^2\\pi^2}{4} \\\\\n",
       "\n",
       "E_n+V_0=\\frac{n^2\\pi^2\\hbar^2}{8ma^2} \\\\\n",
       "\n",
       "E_n=\\frac{n^2\\pi^2\\hbar^2}{8ma^2} -V_0 < 0\n",
       "\n",
       "\n",
       "\\\\\n",
       "n^2<\\frac {8ma^2V_0}{\\pi^2\\hbar^2}  \\\\\n",
       "\n",
       "-\\frac{2a\\sqrt{2mV_0}}{\\pi \\hbar}<n <\\frac{2a\\sqrt{2mV_0}}{\\pi \\hbar}\n",
       "\n",
       "as \\ n \\ is \\ positive \\\\\n",
       "\n",
       "0<n <\\frac{2a\\sqrt{2mV_0}}{\\pi \\hbar} =\\frac{2z_0}{\\pi}=A\n",
       "\n",
       "\n",
       "\n",
       "\n",
       "\n",
       "\n",
       "$\n"
      ],
      "text/plain": [
       "<IPython.core.display.Latex object>"
      ]
     },
     "metadata": {},
     "output_type": "display_data"
    }
   ],
   "source": [
    "%%latex\n",
    "$\n",
    "E\\Psi(x)=\\overline{\\rm H}\\Psi(x)   \\\\\n",
    "\n",
    "for \\ bound \\ states\\ ,  \n",
    "\n",
    "E\\Psi(x)=[-\\frac{ \\hbar^2}{2m} \\frac{\\partial^2 }{\\partial x^2} -V_0]\\Psi(x)   \\\\\n",
    "\n",
    "-\\frac{ 2m}{\\hbar^2}(E-V(x))\\Psi(x)=\\frac{\\partial^2 \\Psi(x)}{\\partial x^2}      \\\\\n",
    "\n",
    "\n",
    "for \\ |x|<a \\ and \\ -V_0<\\ E \\ < \\ 0, \\\\\n",
    "\n",
    "-l^2\\Psi(x)=\\frac{\\partial^2 \\Psi(x)}{\\partial x^2}     \\ (complex \\ exponentials,\\ sin, \\ cos ) \\\\\n",
    "\n",
    "\n",
    "l^2=\\frac{2m(E+V_0)}{\\hbar^2}  \\\\\n",
    "\n",
    "\\Psi(x)=D\\ cos(lx)+C\\ sin(lx)           \\\\\n",
    "\n",
    "\n",
    "\n",
    "for \\ |x|>a, \\ V(x)=0, \\ E \\ < \\ 0 \\\\\n",
    "\n",
    "k^2\\Psi(x)=\\frac{\\partial^2 \\Psi(x)}{\\partial x^2}  \\ (real \\ exponentials,\\ sinh, \\ cosh )      \\\\\n",
    "\n",
    "\n",
    "\n",
    "\n",
    "\n",
    "k^2=-\\frac{2m(E)}{\\hbar^2}  \\\\\n",
    "\\Psi(x)=F\\ exp(-kx)+G\\ exp(kx)           \\\\\n",
    "\n",
    "\n",
    "working \\ with \\ even \\ solutions,\\ at \\ x=a, \\\\ the \\ second \\ term \\ blows\\ up \\ in \\ the \n",
    "\\infty, then\\\\\n",
    "\n",
    "\\Psi(x)=D\\ cos(lx)=F\\ exp(-kx)   \\\\\n",
    "\n",
    "\\Psi^{'}(x)=-D\\ l\\ sin(lx)=-Fk\\ exp(-kx)     \\\\\n",
    "\n",
    "\\frac{\\Psi^{'}(x)}{\\Psi(x)}=l\\ tan(lx)=k   \\\\\n",
    "\n",
    "\n",
    "tan(la)=\\frac{k}{l}  \\\\\n",
    "tan^2(la)=\n",
    "\\frac{-\\frac{2mE}{\\hbar^2}}\n",
    "{\\frac{2mE}{\\hbar^2}+\\frac{2mV_0}{\\hbar^2}} \\\\\n",
    "\n",
    "=  \\frac{\\frac{2mV_0}{\\hbar^2}}\n",
    "{\\frac{2m(E+V_0)}{\\hbar^2}} -1\\\\      \\\n",
    "\n",
    "= \\frac{\\frac{a^22mV_0}{\\hbar^2}}\n",
    "{\\frac{a^22m(E+V_0)}{\\hbar^2}} -1\\\\      \\\n",
    "\n",
    "being \\ la=z \\ and \\ z_0=\\frac{a\\sqrt{2mV_0}}{\\hbar}\\\\\n",
    "\n",
    "tan^2(z)=\\frac{z_0^2}{z^2} -1 \\\\\n",
    "\n",
    "tan \\ z =\\sqrt{(z_0/z)^2-1}  \\\\\n",
    "\n",
    "the \\ roots\\ of \\ the \\ equation \\ occur \\ for \\ \\ z=n \\pi/2 \\ being \\ n \\ odd \\\\ \n",
    "\n",
    "(la)^2=\\frac{n^2\\pi^2}{4}  \\\\\n",
    "\n",
    "\\frac{a^2 2m(E+V_0)}{\\hbar^2}=\\frac{n^2\\pi^2}{4} \\\\\n",
    "\n",
    "E_n+V_0=\\frac{n^2\\pi^2\\hbar^2}{8ma^2} \\\\\n",
    "\n",
    "E_n=\\frac{n^2\\pi^2\\hbar^2}{8ma^2} -V_0 < 0\n",
    "\n",
    "\n",
    "\\\\\n",
    "n^2<\\frac {8ma^2V_0}{\\pi^2\\hbar^2}  \\\\\n",
    "\n",
    "-\\frac{2a\\sqrt{2mV_0}}{\\pi \\hbar}<n <\\frac{2a\\sqrt{2mV_0}}{\\pi \\hbar}\n",
    "\n",
    "as \\ n \\ is \\ positive \\\\\n",
    "\n",
    "1 \\leq n <\\frac{2a\\sqrt{2mV_0}}{\\pi \\hbar} =\\frac{2z_0}{\\pi}=A\n",
    "\n",
    "\n",
    "\n",
    "\n",
    "\n",
    "$"
   ]
  },
  {
   "cell_type": "code",
   "execution_count": 21,
   "metadata": {},
   "outputs": [],
   "source": [
    "import matplotlib.pyplot as plt\n",
    "import numpy as np\n",
    "from numpy import tan,sin,cos,pi\n",
    "z=np.arange(0,2*pi,pi/100)\n",
    "f=cos(z)\n"
   ]
  },
  {
   "cell_type": "code",
   "execution_count": 22,
   "metadata": {},
   "outputs": [
    {
     "data": {
      "text/plain": [
       "[<matplotlib.lines.Line2D at 0x7f2fa185dee0>]"
      ]
     },
     "execution_count": 22,
     "metadata": {},
     "output_type": "execute_result"
    },
    {
     "data": {
      "image/png": "[encoded data removed]",
      "text/plain": [
       "<Figure size 720x720 with 1 Axes>"
      ]
     },
     "metadata": {
      "needs_background": "light"
     },
     "output_type": "display_data"
    }
   ],
   "source": [
    "fig,ax=plt.subplots()\n",
    "fig.set_size_inches(10,10)\n",
    "ax.plot(z,f)"
   ]
  },
  {
   "cell_type": "code",
   "execution_count": 14,
   "metadata": {},
   "outputs": [],
   "source": []
  },
  {
   "cell_type": "code",
   "execution_count": null,
   "metadata": {},
   "outputs": [],
   "source": []
  }
 ],
 "metadata": {
  "kernelspec": {
   "display_name": "Python 3",
   "language": "python",
   "name": "python3"
  },
  "language_info": {
   "codemirror_mode": {
    "name": "ipython",
    "version": 3
   },
   "file_extension": ".py",
   "mimetype": "text/x-python",
   "name": "python",
   "nbconvert_exporter": "python",
   "pygments_lexer": "ipython3",
   "version": "3.8.5"
  }
 },
 "nbformat": 4,
 "nbformat_minor": 4
}
