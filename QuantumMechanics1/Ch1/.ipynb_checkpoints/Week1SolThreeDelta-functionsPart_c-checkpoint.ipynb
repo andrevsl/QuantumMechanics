{
 "cells": [
  {
   "cell_type": "code",
   "execution_count": 9,
   "metadata": {},
   "outputs": [
    {
     "data": {
      "text/latex": [
       "$\n",
       "V(x)=-V_0a(\\delta (x+a) +\\delta(x) +\\delta (x-a))\n",
       "\\\\\n",
       "\n",
       "from \\ part \\ a \\ we \\ infer \\\\\n",
       "( \\ integrating\\ separately\\ within \\ each \\ delta \\ function \\ interval \\\\\n",
       "na- \\epsilon<x<na+ \\epsilon ) \\\\\n",
       "\n",
       "\\Delta \\Psi^{'}(0)=\\frac{-2mV_0a}{\\hbar^2}\\Psi(0) \\\\\n",
       "\n",
       "\n",
       "\\Delta \\Psi^{'}(-a)=\\frac{-2mV_0a}{\\hbar^2}\\Psi(-a) \\\\\n",
       "\n",
       "\\Delta \\Psi^{'}(a)=\\frac{-2mV_0a}{\\hbar^2}\\Psi(a) \\\\\n",
       "\n",
       "\n",
       "\\\\ for \\ x=-a \\ we \\ have \\ contributions \\ of \\ the \\\\\n",
       "discontinuities\\ of \\ all \\ delta\\ functions\\\\\n",
       "\n",
       "\n",
       "\\\\ approching\\ from \\ the\\ left\\  \\ -a^-\\\\\n",
       "\\Psi_{-a^-}(x)=Ae^{k(x+a)}+Be^{kx}+Ce^{k(x-a)} \\\\\n",
       "\n",
       "\\Psi^{'}_{-a^-}(x)=kAe^{k(x+a)}+kBe^{kx}+kCe^{k(x-a)} \\\\\n",
       "\n",
       "\\Psi^{'}_{-a^-}(-a)=kA+kBe^{-ka}+kCe^{-2ka}\n",
       "\n",
       "\\\\ approching\\ from \\ the\\ right\\ -a^+\\\\\n",
       "\n",
       "\\Psi_{-a^+}(x)=Ae^{-k(x+a)}+Be^{kx}+Ce^{k(x-a)} \\\\\n",
       "\n",
       "\n",
       "\\Psi^{'}_{-a^+}(x)=-kAe^{-k(x+a)}+kBe^{kx}+kCe^{k(x-a)} \\\\\n",
       "\n",
       "\\Psi^{'}_{-a^+}(-a)=-kA+kBe^{-ka}+kCe^{-2ka} \\\\\n",
       "then \\\n",
       "\n",
       "\\Delta \\Psi^{'}(-a)=-2kA=-\\frac{2mV_0a}{\\hbar^2}\\Psi(-a)=\\\\\n",
       "-\\frac{2mV_0a}{\\hbar^2}(A+Be^{-ka}+Ce^{-2ka})  \\\\\n",
       "A+Be^{-ka}+Ce^{-2ka}=\\frac{kA\\hbar^2}{mV_0a}=-kA \\chi  \\\\\n",
       "\n",
       "A(1+k\\chi )+Be^{-ka}+Ce^{-2ka}=0 \\ \\ (1) \\\\\n",
       "A(1+k\\chi )+Bp+Cp^{2}=0 \\ \\ (1)\n",
       "\n",
       "$\n"
      ],
      "text/plain": [
       "<IPython.core.display.Latex object>"
      ]
     },
     "metadata": {},
     "output_type": "display_data"
    }
   ],
   "source": [
    "%%latex\n",
    "$\n",
    "V(x)=-V_0a(\\delta (x+a) +\\delta(x) +\\delta (x-a))\n",
    "\\\\\n",
    "\n",
    "from \\ part \\ a \\ we \\ infer \\\\\n",
    "( \\ integrating\\ separately\\ within \\ each \\ delta \\ function \\ interval \\\\\n",
    "na- \\epsilon<x<na+ \\epsilon ) \\\\\n",
    "\n",
    "\\Delta \\Psi^{'}(0)=\\frac{-2mV_0a}{\\hbar^2}\\Psi(0) \\\\\n",
    "\n",
    "\n",
    "\\Delta \\Psi^{'}(-a)=\\frac{-2mV_0a}{\\hbar^2}\\Psi(-a) \\\\\n",
    "\n",
    "\\Delta \\Psi^{'}(a)=\\frac{-2mV_0a}{\\hbar^2}\\Psi(a) \\\\\n",
    "\n",
    "\n",
    "\\\\ for \\ x=-a \\ we \\ have \\ contributions \\ of \\ the \\\\\n",
    "discontinuities\\ of \\ all \\ delta\\ functions\\\\\n",
    "\n",
    "\n",
    "\\\\ approching\\ from \\ the\\ left\\  \\ -a^-\\\\\n",
    "\\Psi_{-a^-}(x)=Ae^{k(x+a)}+Be^{kx}+Ce^{k(x-a)} \\\\\n",
    "\n",
    "\\Psi^{'}_{-a^-}(x)=kAe^{k(x+a)}+kBe^{kx}+kCe^{k(x-a)} \\\\\n",
    "\n",
    "\\Psi^{'}_{-a^-}(-a)=kA+kBe^{-ka}+kCe^{-2ka}\n",
    "\n",
    "\\\\ approching\\ from \\ the\\ right\\ -a^+\\\\\n",
    "\n",
    "\\Psi_{-a^+}(x)=Ae^{-k(x+a)}+Be^{kx}+Ce^{k(x-a)} \\\\\n",
    "\n",
    "\n",
    "\\Psi^{'}_{-a^+}(x)=-kAe^{-k(x+a)}+kBe^{kx}+kCe^{k(x-a)} \\\\\n",
    "\n",
    "\\Psi^{'}_{-a^+}(-a)=-kA+kBe^{-ka}+kCe^{-2ka} \\\\\n",
    "then \\\n",
    "\n",
    "\\Delta \\Psi^{'}(-a)=-2kA=-\\frac{2mV_0a}{\\hbar^2}\\Psi(-a)=\\\\\n",
    "-\\frac{2mV_0a}{\\hbar^2}(A+Be^{-ka}+Ce^{-2ka})  \\\\\n",
    "A+Be^{-ka}+Ce^{-2ka}=\\frac{kA\\hbar^2}{mV_0a}=-kA \\chi  \\\\\n",
    "\n",
    "A(1+k\\chi )+Be^{-ka}+Ce^{-2ka}=0 \\ \\ (1) \\\\\n",
    "A(1+k\\chi )+Bp+Cp^{2}=0 \\ \\ (1)\n",
    "\n",
    "$"
   ]
  },
  {
   "cell_type": "code",
   "execution_count": 12,
   "metadata": {},
   "outputs": [
    {
     "data": {
      "text/latex": [
       "$\n",
       "\n",
       "\n",
       "\n",
       "\\\\ approching\\ from \\ the\\ left\\  \\ 0^-\\\\\n",
       "\\Psi_{0^-}(x)=Ae^{-k(x+a)}+Be^{kx}+Ce^{k(x-a)} \\\\\n",
       "\n",
       "\\Psi^{'}_{0^-}(x)=-kAe^{-k(x+a)}+kBe^{kx}+kCe^{k(x-a)} \\\\\n",
       "\n",
       "\n",
       "\\Psi^{'}_{0^-}(0)=-kAe^{-ka}+kB+kCe^{-ka} \\\\\n",
       "\n",
       "\\\\ approching\\ from \\ the\\ right\\ 0^+\\\\\n",
       "\n",
       "\\Psi_{0^+}(x)=Ae^{-k(x+a)}+Be^{-kx}+Ce^{k(x-a)} \\\\\n",
       "\n",
       "\\Psi^{'}_{0^+}(x)=-kAe^{-k(x+a)}-kBe^{-kx}+kCe^{k(x-a)} \\\\\n",
       "\n",
       "\n",
       "\\Psi^{'}_{0^+}(0)=-kAe^{-ka}-kB+kCe^{-ka} \\\\\n",
       "then \\\n",
       "\n",
       "\\Delta \\Psi^{'}(0)=-2kB =-\\frac{2mV_0a}{\\hbar^2}\\Psi(0)=\\\\\n",
       "\n",
       "-\\frac{2mV_0a}{\\hbar^2}(Ae^{-ka}+B+Ce^{-ka} ) \\\\\n",
       "\n",
       "Ae^{-ka}+B+Ce^{-ka}=\\frac{kB\\hbar^2}{mV_0a}=-kB \\chi  \\\\\n",
       "Ap+B(1+k\\chi)+Cp=0\n",
       "\\\\\n",
       "\n",
       "$\n"
      ],
      "text/plain": [
       "<IPython.core.display.Latex object>"
      ]
     },
     "metadata": {},
     "output_type": "display_data"
    }
   ],
   "source": [
    "%%latex\n",
    "$\n",
    "\n",
    "\n",
    "\n",
    "\\\\ approching\\ from \\ the\\ left\\  \\ 0^-\\\\\n",
    "\\Psi_{0^-}(x)=Ae^{-k(x+a)}+Be^{kx}+Ce^{k(x-a)} \\\\\n",
    "\n",
    "\\Psi^{'}_{0^-}(x)=-kAe^{-k(x+a)}+kBe^{kx}+kCe^{k(x-a)} \\\\\n",
    "\n",
    "\n",
    "\\Psi^{'}_{0^-}(0)=-kAe^{-ka}+kB+kCe^{-ka} \\\\\n",
    "\n",
    "\\\\ approching\\ from \\ the\\ right\\ 0^+\\\\\n",
    "\n",
    "\\Psi_{0^+}(x)=Ae^{-k(x+a)}+Be^{-kx}+Ce^{k(x-a)} \\\\\n",
    "\n",
    "\\Psi^{'}_{0^+}(x)=-kAe^{-k(x+a)}-kBe^{-kx}+kCe^{k(x-a)} \\\\\n",
    "\n",
    "\n",
    "\\Psi^{'}_{0^+}(0)=-kAe^{-ka}-kB+kCe^{-ka} \\\\\n",
    "then \\\n",
    "\n",
    "\\Delta \\Psi^{'}(0)=-2kB =-\\frac{2mV_0a}{\\hbar^2}\\Psi(0)=\\\\\n",
    "\n",
    "-\\frac{2mV_0a}{\\hbar^2}(Ae^{-ka}+B+Ce^{-ka} ) \\\\\n",
    "\n",
    "Ae^{-ka}+B+Ce^{-ka}=\\frac{kB\\hbar^2}{mV_0a}=-kB \\chi  \\\\\n",
    "Ap+B(1+k\\chi)+Cp=0\n",
    "\\\\\n",
    "\n",
    "$"
   ]
  },
  {
   "cell_type": "code",
   "execution_count": 14,
   "metadata": {},
   "outputs": [
    {
     "data": {
      "text/latex": [
       "$\n",
       "\\\\ approching\\ from \\ the\\ left\\  \\ +a^-\\\\\n",
       "\\Psi_{+a^-}(x)=Ae^{-k(x+a)}+Be^{-kx}+Ce^{k(x-a)} \\\\\n",
       "\n",
       "\\Psi^{'}_{+a^-}(x)=-kAe^{-k(x+a)}-kBe^{-kx}+kCe^{k(x-a)} \\\\\n",
       "\n",
       "\n",
       "\\Psi^{'}_{+a^-}(a)=-kAe^{-2ka}-kBe^{-ka}+kCe^{-ka} \\\\\n",
       "\n",
       "\\\\ approching\\ from \\ the\\ right\\ +a^+\\\\\n",
       "\\Psi_{+a^+}(x)=Ae^{-k(x+a)}+Be^{-kx}+Ce^{-k(x-a)} \\\\\n",
       "\n",
       "\\Psi^{'}_{+a^+}(x)=-kAe^{-k(x+a)}-kBe^{-kx}-kCe^{-k(x-a)} \\\\\n",
       "\n",
       "\\Psi^{'}_{+a^+}(a)=-kAe^{-2ka}-kBe^{-ka}-kC \\\\\n",
       "\n",
       "\\Delta \\Psi^{'}(a)=-2kC =-\\frac{2mV_0a}{\\hbar^2}\\Psi(a)=\\\\\n",
       "\n",
       "-\\frac{2mV_0a}{\\hbar^2}(Ae^{-2ka}+Be^{-ka}+C ) \\\\\n",
       "\n",
       "Ae^{-2ka}+Be^{-ka}+C =\\frac{kC\\hbar^2}{mV_0a}=-kC \\chi  \\\\\n",
       "Ap^2+Bp+C(1+k\\chi)=0\n",
       "\n",
       "$\n"
      ],
      "text/plain": [
       "<IPython.core.display.Latex object>"
      ]
     },
     "metadata": {},
     "output_type": "display_data"
    }
   ],
   "source": [
    "%%latex\n",
    "$\n",
    "\\\\ approching\\ from \\ the\\ left\\  \\ +a^-\\\\\n",
    "\\Psi_{+a^-}(x)=Ae^{-k(x+a)}+Be^{-kx}+Ce^{k(x-a)} \\\\\n",
    "\n",
    "\\Psi^{'}_{+a^-}(x)=-kAe^{-k(x+a)}-kBe^{-kx}+kCe^{k(x-a)} \\\\\n",
    "\n",
    "\n",
    "\\Psi^{'}_{+a^-}(a)=-kAe^{-2ka}-kBe^{-ka}+kCe^{-ka} \\\\\n",
    "\n",
    "\\\\ approching\\ from \\ the\\ right\\ +a^+\\\\\n",
    "\\Psi_{+a^+}(x)=Ae^{-k(x+a)}+Be^{-kx}+Ce^{-k(x-a)} \\\\\n",
    "\n",
    "\\Psi^{'}_{+a^+}(x)=-kAe^{-k(x+a)}-kBe^{-kx}-kCe^{-k(x-a)} \\\\\n",
    "\n",
    "\\Psi^{'}_{+a^+}(a)=-kAe^{-2ka}-kBe^{-ka}-kC \\\\\n",
    "\n",
    "\\Delta \\Psi^{'}(a)=-2kC =-\\frac{2mV_0a}{\\hbar^2}\\Psi(a)=\\\\\n",
    "\n",
    "-\\frac{2mV_0a}{\\hbar^2}(Ae^{-2ka}+Be^{-ka}+C ) \\\\\n",
    "\n",
    "Ae^{-2ka}+Be^{-ka}+C =\\frac{kC\\hbar^2}{mV_0a}=-kC \\chi  \\\\\n",
    "Ap^2+Bp+C(1+k\\chi)=0\n",
    "\n",
    "$"
   ]
  },
  {
   "cell_type": "code",
   "execution_count": 31,
   "metadata": {},
   "outputs": [],
   "source": [
    "from sympy import *\n",
    "from sympy.solvers.solveset import linsolve\n",
    "\n",
    "x, y, z,a,p = symbols('x, y, z,a,p')"
   ]
  },
  {
   "cell_type": "code",
   "execution_count": 32,
   "metadata": {},
   "outputs": [
    {
     "data": {
      "text/latex": [
       "$\\displaystyle \\left[\\begin{matrix}a & p & p^{2}\\\\p & a & p\\\\p^{2} & p & a\\end{matrix}\\right]$"
      ],
      "text/plain": [
       "Matrix([\n",
       "[   a, p, p**2],\n",
       "[   p, a,    p],\n",
       "[p**2, p,    a]])"
      ]
     },
     "execution_count": 32,
     "metadata": {},
     "output_type": "execute_result"
    }
   ],
   "source": [
    "A=Matrix([[a,p,p**2] , [p ,a,p] ,[p**2,p,a]])\n",
    "A"
   ]
  },
  {
   "cell_type": "code",
   "execution_count": 33,
   "metadata": {},
   "outputs": [],
   "source": [
    "L, U, _ = A.LUdecomposition()"
   ]
  },
  {
   "cell_type": "code",
   "execution_count": 35,
   "metadata": {},
   "outputs": [
    {
     "data": {
      "text/latex": [
       "$\\displaystyle \\left[\\begin{matrix}a & p & p^{2}\\\\0 & a - \\frac{p^{2}}{a} & p - \\frac{p^{3}}{a}\\\\0 & 0 & a - \\frac{\\left(p - \\frac{p^{3}}{a}\\right)^{2}}{a - \\frac{p^{2}}{a}} - \\frac{p^{4}}{a}\\end{matrix}\\right]$"
      ],
      "text/plain": [
       "Matrix([\n",
       "[a,          p,                                      p**2],\n",
       "[0, a - p**2/a,                                p - p**3/a],\n",
       "[0,          0, a - (p - p**3/a)**2/(a - p**2/a) - p**4/a]])"
      ]
     },
     "execution_count": 35,
     "metadata": {},
     "output_type": "execute_result"
    }
   ],
   "source": [
    "U"
   ]
  },
  {
   "cell_type": "code",
   "execution_count": 44,
   "metadata": {},
   "outputs": [
    {
     "data": {
      "text/plain": [
       "[]"
      ]
     },
     "execution_count": 44,
     "metadata": {},
     "output_type": "execute_result"
    }
   ],
   "source": [
    "solve(U[8], p)"
   ]
  },
  {
   "cell_type": "code",
   "execution_count": null,
   "metadata": {},
   "outputs": [],
   "source": []
  }
 ],
 "metadata": {
  "kernelspec": {
   "display_name": "Python 3",
   "language": "python",
   "name": "python3"
  },
  "language_info": {
   "codemirror_mode": {
    "name": "ipython",
    "version": 3
   },
   "file_extension": ".py",
   "mimetype": "text/x-python",
   "name": "python",
   "nbconvert_exporter": "python",
   "pygments_lexer": "ipython3",
   "version": "3.8.5"
  }
 },
 "nbformat": 4,
 "nbformat_minor": 4
}
